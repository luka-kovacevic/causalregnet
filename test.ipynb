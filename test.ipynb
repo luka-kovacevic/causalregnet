{
 "cells": [
  {
   "cell_type": "code",
   "execution_count": 1,
   "metadata": {},
   "outputs": [],
   "source": [
    "import numpy as np\n",
    "import pandas as pd\n",
    "import networkx as nx\n",
    "import seaborn as sns\n",
    "import utils"
   ]
  },
  {
   "cell_type": "markdown",
   "metadata": {},
   "source": [
    "### Simulating graph with 2 nodes"
   ]
  },
  {
   "cell_type": "code",
   "execution_count": 2,
   "metadata": {},
   "outputs": [
    {
     "data": {
      "text/plain": [
       "False"
      ]
     },
     "execution_count": 2,
     "metadata": {},
     "output_type": "execute_result"
    }
   ],
   "source": [
    "\n",
    "x = -0.1\n",
    "0<x<1"
   ]
  },
  {
   "cell_type": "code",
   "execution_count": 3,
   "metadata": {},
   "outputs": [
    {
     "data": {
      "text/plain": [
       "array([[0.        , 0.70505988],\n",
       "       [0.        , 0.        ]])"
      ]
     },
     "execution_count": 3,
     "metadata": {},
     "output_type": "execute_result"
    }
   ],
   "source": [
    "np.random.seed(100)\n",
    "\n",
    "B = utils.generate_dag(2, 1, 'ER')\n",
    "W = utils.generate_W(B)\n",
    "W"
   ]
  },
  {
   "cell_type": "code",
   "execution_count": 4,
   "metadata": {},
   "outputs": [],
   "source": [
    "alpha = np.array([2, 2])\n",
    "beta = np.array([0.4, 0.4])\n",
    "mu = np.array([5, 5])\n",
    "theta = np.array([8, 8])"
   ]
  },
  {
   "cell_type": "code",
   "execution_count": 5,
   "metadata": {},
   "outputs": [],
   "source": [
    "import PerturbSCM as scm"
   ]
  },
  {
   "cell_type": "code",
   "execution_count": 6,
   "metadata": {},
   "outputs": [
    {
     "name": "stdout",
     "output_type": "stream",
     "text": [
      "Calibrating linear aggregation with mean-norm...\n",
      "Calibration complete.\n"
     ]
    },
    {
     "name": "stderr",
     "output_type": "stream",
     "text": [
      "/Users/luka/Documents/Research/Causal Structure Learning/Projects/Interventional SERGIO/PerturbSCM/PerturbSCM.py:108: RuntimeWarning: divide by zero encountered in scalar divide\n",
      "  gamma_j = 1 / np.sum(self.W[:,j]) * (np.log(self.alpha[j] / self.beta[j] - 1) - np.log(self.alpha[j] - 1))\n",
      "/Users/luka/Documents/Research/Causal Structure Learning/Projects/Interventional SERGIO/PerturbSCM/PerturbSCM.py:109: RuntimeWarning: invalid value encountered in scalar multiply\n",
      "  b_j = - 1 / gamma_j * (np.log(self.alpha[j] - 1) + gamma_j * np.sum(self.W[:,j]))\n"
     ]
    }
   ],
   "source": [
    "sim = scm.PerturbSCM(2, mu=mu, theta=theta, W=W, alpha=alpha, beta=beta)\n",
    "sim.calibrate_sigmoid()"
   ]
  },
  {
   "cell_type": "code",
   "execution_count": 7,
   "metadata": {},
   "outputs": [],
   "source": [
    "X=sim.simulate()"
   ]
  },
  {
   "cell_type": "code",
   "execution_count": 8,
   "metadata": {},
   "outputs": [
    {
     "data": {
      "text/plain": [
       "<Axes: ylabel='Count'>"
      ]
     },
     "execution_count": 8,
     "metadata": {},
     "output_type": "execute_result"
    },
    {
     "data": {
      "image/png": "[encoded data removed]",
      "text/plain": [
       "<Figure size 640x480 with 1 Axes>"
      ]
     },
     "metadata": {},
     "output_type": "display_data"
    }
   ],
   "source": [
    "sns.histplot(X)"
   ]
  },
  {
   "cell_type": "code",
   "execution_count": 9,
   "metadata": {},
   "outputs": [
    {
     "name": "stdout",
     "output_type": "stream",
     "text": [
      "[5 5]\n",
      "[8.125 8.125]\n"
     ]
    }
   ],
   "source": [
    "print(sim.mu)\n",
    "print(sim.mu * (1 + np.array(sim.mu) / np.array(sim.theta)))"
   ]
  },
  {
   "cell_type": "code",
   "execution_count": 10,
   "metadata": {},
   "outputs": [
    {
     "data": {
      "text/plain": [
       "array([ 8.420524, 11.031751])"
      ]
     },
     "execution_count": 10,
     "metadata": {},
     "output_type": "execute_result"
    }
   ],
   "source": [
    "np.std(X, axis=0) ** 2"
   ]
  },
  {
   "cell_type": "code",
   "execution_count": 11,
   "metadata": {},
   "outputs": [],
   "source": [
    "X=sim.simulate(1000)\n",
    "X_int0 = sim.simulate(1000, intervention_val=[0, -100], intervention_type='deterministic')\n",
    "X_int1 = sim.simulate(1000, intervention_val=[-1, 0], intervention_type='deterministic')"
   ]
  },
  {
   "cell_type": "code",
   "execution_count": 12,
   "metadata": {},
   "outputs": [
    {
     "data": {
      "text/plain": [
       "<Axes: ylabel='Count'>"
      ]
     },
     "execution_count": 12,
     "metadata": {},
     "output_type": "execute_result"
    },
    {
     "data": {
      "image/png": "[encoded data removed]",
      "text/plain": [
       "<Figure size 640x480 with 1 Axes>"
      ]
     },
     "metadata": {},
     "output_type": "display_data"
    }
   ],
   "source": [
    "sns.histplot(X_int0)"
   ]
  },
  {
   "cell_type": "markdown",
   "metadata": {},
   "source": [
    "#### Investigating discrepancy in empirical/simulated variance vs. expected variance given parameters"
   ]
  },
  {
   "cell_type": "code",
   "execution_count": 13,
   "metadata": {},
   "outputs": [
    {
     "data": {
      "text/plain": [
       "array([8.125, 8.125])"
      ]
     },
     "execution_count": 13,
     "metadata": {},
     "output_type": "execute_result"
    }
   ],
   "source": [
    "expected_variace = mu * (1 + mu / theta)\n",
    "expected_variace "
   ]
  },
  {
   "cell_type": "code",
   "execution_count": 14,
   "metadata": {},
   "outputs": [],
   "source": [
    "X=sim.simulate(1000)"
   ]
  },
  {
   "cell_type": "code",
   "execution_count": 15,
   "metadata": {},
   "outputs": [
    {
     "data": {
      "text/plain": [
       "array([ 7.688679, 10.966271])"
      ]
     },
     "execution_count": 15,
     "metadata": {},
     "output_type": "execute_result"
    }
   ],
   "source": [
    "np.var(X, axis=0)"
   ]
  },
  {
   "cell_type": "code",
   "execution_count": 16,
   "metadata": {},
   "outputs": [],
   "source": [
    "var_reg = np.var(sim.reg_sigmoid(X[:,0] / mu[0] * W[0, 1], 1))"
   ]
  },
  {
   "cell_type": "code",
   "execution_count": 17,
   "metadata": {},
   "outputs": [],
   "source": [
    "add_var = (mu[0]) ** 2 * var_reg"
   ]
  },
  {
   "cell_type": "code",
   "execution_count": 18,
   "metadata": {},
   "outputs": [
    {
     "data": {
      "text/plain": [
       "2.811510205119823"
      ]
     },
     "execution_count": 18,
     "metadata": {},
     "output_type": "execute_result"
    }
   ],
   "source": [
    "add_var"
   ]
  },
  {
   "cell_type": "code",
   "execution_count": 19,
   "metadata": {},
   "outputs": [
    {
     "data": {
      "text/plain": [
       "array([0.60653909, 0.86225186, 0.86225186, 0.72963379, 0.60653909,\n",
       "       1.6       , 0.72963379, 0.60653909, 1.39346091, 1.13774814,\n",
       "       1.88235294, 1.13774814, 1.        , 1.39346091, 1.80372119,\n",
       "       0.86225186, 0.49610149, 0.86225186, 0.86225186, 0.72963379,\n",
       "       1.        , 1.        , 1.27036621, 1.27036621, 1.        ,\n",
       "       0.49610149, 0.72963379, 1.        , 0.60653909, 1.13774814,\n",
       "       1.13774814, 0.72963379, 1.39346091, 1.13774814, 1.27036621,\n",
       "       1.        , 1.50389851, 0.49610149, 1.39346091, 0.49610149,\n",
       "       1.27036621, 1.27036621, 0.60653909, 0.60653909, 1.13774814,\n",
       "       0.60653909, 1.13774814, 0.86225186, 1.39346091, 1.13774814,\n",
       "       0.86225186, 0.60653909, 1.13774814, 0.49610149, 1.90955189,\n",
       "       0.72963379, 1.        , 0.86225186, 1.        , 1.6       ,\n",
       "       0.72963379, 1.27036621, 0.4       , 0.72963379, 0.60653909,\n",
       "       1.39346091, 0.60653909, 1.        , 1.27036621, 0.86225186,\n",
       "       1.39346091, 0.72963379, 0.86225186, 0.86225186, 0.72963379,\n",
       "       0.60653909, 1.27036621, 0.86225186, 0.72963379, 0.60653909,\n",
       "       1.13774814, 0.72963379, 0.72963379, 1.        , 0.49610149,\n",
       "       0.86225186, 0.49610149, 0.49610149, 0.60653909, 0.72963379,\n",
       "       1.        , 0.86225186, 0.72963379, 1.96923077, 1.        ,\n",
       "       0.72963379, 1.13774814, 1.50389851, 0.72963379, 1.27036621,\n",
       "       0.49610149, 0.86225186, 1.6       , 0.49610149, 0.72963379,\n",
       "       1.39346091, 1.13774814, 1.27036621, 0.60653909, 1.        ,\n",
       "       1.        , 1.        , 0.72963379, 0.86225186, 1.        ,\n",
       "       0.60653909, 1.13774814, 1.13774814, 1.13774814, 1.        ,\n",
       "       0.72963379, 1.27036621, 1.13774814, 1.6       , 1.        ,\n",
       "       0.72963379, 0.86225186, 1.39346091, 0.86225186, 0.86225186,\n",
       "       1.13774814, 0.86225186, 0.60653909, 1.39346091, 1.27036621,\n",
       "       1.68142881, 1.13774814, 1.39346091, 1.13774814, 1.13774814,\n",
       "       0.86225186, 1.        , 0.72963379, 1.        , 1.39346091,\n",
       "       0.49610149, 1.13774814, 1.39346091, 1.13774814, 0.60653909,\n",
       "       0.60653909, 1.        , 0.86225186, 0.49610149, 1.27036621,\n",
       "       0.60653909, 0.86225186, 0.49610149, 0.86225186, 0.72963379,\n",
       "       1.27036621, 1.50389851, 0.86225186, 1.        , 0.72963379,\n",
       "       0.72963379, 1.13774814, 0.72963379, 1.50389851, 0.72963379,\n",
       "       0.49610149, 0.86225186, 0.72963379, 0.49610149, 1.39346091,\n",
       "       1.        , 0.72963379, 0.49610149, 0.72963379, 0.86225186,\n",
       "       0.49610149, 1.6       , 1.        , 0.72963379, 0.86225186,\n",
       "       1.        , 0.72963379, 0.60653909, 0.86225186, 0.4       ,\n",
       "       0.60653909, 0.72963379, 1.        , 0.49610149, 1.        ,\n",
       "       0.60653909, 0.4       , 0.86225186, 0.72963379, 0.49610149,\n",
       "       0.72963379, 1.50389851, 0.72963379, 0.49610149, 0.72963379,\n",
       "       0.60653909, 1.39346091, 0.72963379, 0.49610149, 1.        ,\n",
       "       1.        , 0.86225186, 0.86225186, 1.39346091, 0.86225186,\n",
       "       0.86225186, 1.6       , 0.60653909, 0.60653909, 1.13774814,\n",
       "       0.49610149, 1.6       , 1.50389851, 1.        , 0.60653909,\n",
       "       0.60653909, 0.86225186, 1.50389851, 1.        , 0.72963379,\n",
       "       1.6       , 1.27036621, 1.74888267, 0.72963379, 0.49610149,\n",
       "       0.72963379, 1.        , 0.60653909, 1.39346091, 1.        ,\n",
       "       1.        , 1.13774814, 1.50389851, 1.50389851, 0.60653909,\n",
       "       0.49610149, 1.39346091, 1.        , 0.49610149, 1.27036621,\n",
       "       0.86225186, 0.86225186, 0.49610149, 0.86225186, 0.4       ,\n",
       "       0.86225186, 1.27036621, 0.60653909, 1.13774814, 0.86225186,\n",
       "       1.39346091, 0.72963379, 0.86225186, 1.        , 1.        ,\n",
       "       0.72963379, 0.86225186, 0.86225186, 0.86225186, 1.        ,\n",
       "       1.13774814, 0.60653909, 1.39346091, 0.72963379, 0.72963379,\n",
       "       1.13774814, 0.72963379, 0.49610149, 0.49610149, 0.60653909,\n",
       "       0.86225186, 0.72963379, 0.60653909, 1.39346091, 1.        ,\n",
       "       1.        , 0.60653909, 0.60653909, 0.72963379, 1.50389851,\n",
       "       1.13774814, 1.        , 1.27036621, 0.60653909, 0.86225186,\n",
       "       0.86225186, 0.60653909, 0.72963379, 0.86225186, 0.86225186,\n",
       "       0.86225186, 1.39346091, 1.27036621, 0.86225186, 0.49610149,\n",
       "       1.13774814, 0.60653909, 0.86225186, 1.80372119, 1.        ,\n",
       "       1.        , 0.86225186, 0.72963379, 0.60653909, 0.86225186,\n",
       "       1.        , 0.49610149, 0.60653909, 1.        , 0.72963379,\n",
       "       1.        , 0.86225186, 0.4       , 1.27036621, 1.        ,\n",
       "       1.39346091, 0.86225186, 1.50389851, 0.86225186, 0.86225186,\n",
       "       0.60653909, 1.        , 0.86225186, 1.27036621, 1.27036621,\n",
       "       0.60653909, 0.60653909, 0.49610149, 0.60653909, 0.72963379,\n",
       "       1.13774814, 1.39346091, 1.39346091, 1.27036621, 1.39346091,\n",
       "       0.86225186, 0.86225186, 1.13774814, 0.86225186, 0.60653909,\n",
       "       0.72963379, 1.        , 0.49610149, 0.4       , 1.6       ,\n",
       "       1.13774814, 1.        , 1.27036621, 0.49610149, 0.60653909,\n",
       "       0.72963379, 1.74888267, 1.50389851, 1.13774814, 1.39346091,\n",
       "       0.60653909, 1.13774814, 1.13774814, 1.27036621, 0.86225186,\n",
       "       0.60653909, 1.        , 0.86225186, 0.72963379, 1.68142881,\n",
       "       0.72963379, 1.68142881, 1.74888267, 0.49610149, 1.        ,\n",
       "       1.13774814, 0.72963379, 1.39346091, 0.49610149, 0.72963379,\n",
       "       1.13774814, 0.60653909, 0.60653909, 1.13774814, 1.        ,\n",
       "       0.60653909, 0.72963379, 0.49610149, 1.13774814, 1.13774814,\n",
       "       1.27036621, 0.72963379, 1.13774814, 1.13774814, 0.86225186,\n",
       "       1.50389851, 0.49610149, 0.86225186, 0.86225186, 1.27036621,\n",
       "       1.27036621, 0.86225186, 0.72963379, 0.60653909, 0.86225186,\n",
       "       0.72963379, 0.86225186, 0.4       , 0.60653909, 0.49610149,\n",
       "       0.86225186, 1.39346091, 0.60653909, 0.4       , 1.        ,\n",
       "       1.27036621, 1.27036621, 1.6       , 0.72963379, 1.13774814,\n",
       "       1.        , 0.72963379, 1.        , 0.60653909, 0.60653909,\n",
       "       0.72963379, 0.49610149, 1.        , 0.60653909, 0.49610149,\n",
       "       0.60653909, 1.27036621, 1.27036621, 0.49610149, 0.86225186,\n",
       "       0.60653909, 0.86225186, 1.13774814, 0.72963379, 0.49610149,\n",
       "       0.49610149, 0.72963379, 0.72963379, 1.68142881, 1.        ,\n",
       "       1.39346091, 1.39346091, 1.74888267, 0.72963379, 1.50389851,\n",
       "       0.49610149, 0.49610149, 0.72963379, 1.        , 1.80372119,\n",
       "       1.        , 1.6       , 0.60653909, 1.50389851, 1.39346091,\n",
       "       0.86225186, 0.4       , 1.27036621, 1.        , 0.72963379,\n",
       "       0.72963379, 1.6       , 1.13774814, 1.27036621, 0.72963379,\n",
       "       1.6       , 0.72963379, 0.60653909, 1.27036621, 0.72963379,\n",
       "       1.6       , 0.4       , 1.13774814, 0.86225186, 1.50389851,\n",
       "       1.13774814, 1.84762755, 1.13774814, 1.        , 1.        ,\n",
       "       1.13774814, 0.86225186, 0.72963379, 0.86225186, 1.13774814,\n",
       "       1.39346091, 1.13774814, 0.72963379, 0.86225186, 0.86225186,\n",
       "       1.        , 0.86225186, 1.13774814, 1.13774814, 1.27036621,\n",
       "       1.50389851, 0.49610149, 1.39346091, 1.        , 1.13774814,\n",
       "       0.49610149, 1.13774814, 1.27036621, 1.13774814, 0.72963379,\n",
       "       1.39346091, 0.60653909, 1.13774814, 1.39346091, 1.39346091,\n",
       "       1.13774814, 0.72963379, 1.        , 1.74888267, 0.86225186,\n",
       "       1.        , 1.27036621, 1.39346091, 0.60653909, 1.27036621,\n",
       "       1.13774814, 1.6       , 0.86225186, 0.86225186, 0.86225186,\n",
       "       1.13774814, 0.60653909, 1.13774814, 0.60653909, 0.60653909,\n",
       "       1.13774814, 0.86225186, 1.50389851, 0.49610149, 1.13774814,\n",
       "       1.68142881, 1.39346091, 0.86225186, 1.13774814, 1.        ,\n",
       "       1.27036621, 1.        , 1.39346091, 1.39346091, 0.86225186,\n",
       "       0.60653909, 0.4       , 0.60653909, 0.72963379, 1.39346091,\n",
       "       0.60653909, 1.27036621, 1.13774814, 0.86225186, 0.60653909,\n",
       "       0.60653909, 0.72963379, 0.60653909, 1.13774814, 0.86225186,\n",
       "       1.13774814, 1.        , 1.68142881, 1.        , 1.13774814,\n",
       "       0.72963379, 1.        , 0.86225186, 1.27036621, 0.60653909,\n",
       "       1.27036621, 1.39346091, 1.        , 0.49610149, 0.86225186,\n",
       "       1.13774814, 0.86225186, 1.27036621, 0.60653909, 0.86225186,\n",
       "       0.60653909, 1.50389851, 0.72963379, 0.72963379, 1.13774814,\n",
       "       0.60653909, 1.27036621, 0.86225186, 1.6       , 0.72963379,\n",
       "       1.27036621, 1.27036621, 1.13774814, 0.60653909, 1.6       ,\n",
       "       0.86225186, 1.13774814, 1.        , 1.68142881, 0.86225186,\n",
       "       0.86225186, 1.50389851, 1.27036621, 1.        , 0.49610149,\n",
       "       0.86225186, 1.27036621, 1.50389851, 0.86225186, 0.72963379,\n",
       "       1.39346091, 0.86225186, 0.60653909, 0.86225186, 0.72963379,\n",
       "       0.86225186, 0.60653909, 1.6       , 1.6       , 0.72963379,\n",
       "       0.60653909, 0.72963379, 1.        , 1.        , 1.68142881,\n",
       "       1.13774814, 0.72963379, 0.86225186, 1.27036621, 1.27036621,\n",
       "       1.50389851, 0.86225186, 1.39346091, 1.        , 1.50389851,\n",
       "       1.        , 0.72963379, 0.60653909, 1.        , 1.        ,\n",
       "       1.39346091, 1.13774814, 0.86225186, 0.49610149, 1.27036621,\n",
       "       0.60653909, 1.74888267, 1.        , 1.39346091, 0.86225186,\n",
       "       0.86225186, 0.49610149, 1.13774814, 0.49610149, 0.86225186,\n",
       "       0.72963379, 0.72963379, 1.39346091, 0.86225186, 1.13774814,\n",
       "       1.        , 0.86225186, 1.27036621, 1.        , 0.86225186,\n",
       "       0.86225186, 0.72963379, 1.        , 1.27036621, 1.        ,\n",
       "       1.13774814, 0.86225186, 1.39346091, 1.27036621, 0.72963379,\n",
       "       0.4       , 1.13774814, 0.86225186, 1.13774814, 1.13774814,\n",
       "       1.39346091, 0.86225186, 1.        , 1.6       , 0.60653909,\n",
       "       1.27036621, 0.86225186, 1.        , 0.72963379, 0.72963379,\n",
       "       0.72963379, 0.72963379, 0.72963379, 1.        , 1.27036621,\n",
       "       0.72963379, 1.39346091, 0.49610149, 1.        , 1.        ,\n",
       "       1.27036621, 1.6       , 1.        , 1.50389851, 1.        ,\n",
       "       1.        , 1.        , 0.60653909, 0.60653909, 0.86225186,\n",
       "       0.72963379, 0.49610149, 1.        , 0.60653909, 0.72963379,\n",
       "       1.50389851, 1.        , 0.86225186, 1.27036621, 0.4       ,\n",
       "       1.        , 1.27036621, 1.50389851, 1.27036621, 1.39346091,\n",
       "       0.86225186, 1.50389851, 1.13774814, 1.13774814, 1.13774814,\n",
       "       0.60653909, 1.13774814, 0.86225186, 1.39346091, 1.        ,\n",
       "       0.60653909, 0.86225186, 1.13774814, 1.13774814, 0.60653909,\n",
       "       0.4       , 1.        , 1.68142881, 0.86225186, 0.49610149,\n",
       "       0.86225186, 1.27036621, 1.27036621, 0.60653909, 1.68142881,\n",
       "       0.86225186, 1.        , 1.27036621, 1.68142881, 0.72963379,\n",
       "       0.86225186, 1.        , 0.86225186, 0.60653909, 1.84762755,\n",
       "       1.13774814, 1.13774814, 1.27036621, 0.86225186, 0.72963379,\n",
       "       1.13774814, 0.86225186, 0.4       , 1.        , 0.86225186,\n",
       "       1.6       , 0.86225186, 0.86225186, 0.72963379, 1.        ,\n",
       "       0.86225186, 1.        , 1.13774814, 1.        , 0.72963379,\n",
       "       1.27036621, 1.        , 1.        , 0.86225186, 1.        ,\n",
       "       1.39346091, 1.6       , 1.39346091, 0.86225186, 1.13774814,\n",
       "       0.4       , 1.27036621, 0.72963379, 0.49610149, 0.86225186,\n",
       "       1.13774814, 1.        , 1.        , 0.72963379, 0.72963379,\n",
       "       1.88235294, 1.13774814, 1.68142881, 1.50389851, 1.6       ,\n",
       "       0.49610149, 1.13774814, 1.39346091, 0.86225186, 0.86225186,\n",
       "       0.86225186, 0.60653909, 1.80372119, 1.13774814, 0.86225186,\n",
       "       1.39346091, 0.60653909, 1.27036621, 0.86225186, 1.27036621,\n",
       "       1.6       , 1.13774814, 1.50389851, 1.27036621, 1.13774814,\n",
       "       1.6       , 0.86225186, 1.50389851, 0.60653909, 1.13774814,\n",
       "       0.49610149, 0.60653909, 1.50389851, 1.13774814, 0.49610149,\n",
       "       1.74888267, 0.72963379, 0.86225186, 0.72963379, 0.72963379,\n",
       "       0.72963379, 0.60653909, 0.60653909, 0.72963379, 1.13774814,\n",
       "       0.86225186, 1.39346091, 0.72963379, 1.27036621, 0.49610149,\n",
       "       1.74888267, 1.13774814, 0.86225186, 1.        , 0.4       ,\n",
       "       0.72963379, 1.27036621, 1.13774814, 1.        , 1.68142881,\n",
       "       1.27036621, 0.86225186, 1.13774814, 1.        , 1.27036621,\n",
       "       0.86225186, 1.13774814, 0.4       , 0.86225186, 0.72963379,\n",
       "       0.72963379, 1.50389851, 0.72963379, 1.27036621, 1.        ,\n",
       "       0.72963379, 0.86225186, 0.86225186, 1.50389851, 0.86225186,\n",
       "       0.86225186, 0.60653909, 1.        , 0.60653909, 0.49610149,\n",
       "       1.27036621, 0.72963379, 0.60653909, 0.72963379, 0.72963379,\n",
       "       0.72963379, 1.13774814, 1.74888267, 1.13774814, 0.86225186,\n",
       "       1.39346091, 0.72963379, 0.86225186, 1.50389851, 1.13774814,\n",
       "       0.86225186, 0.72963379, 1.27036621, 1.13774814, 1.39346091,\n",
       "       0.72963379, 0.72963379, 1.13774814, 1.        , 0.4       ,\n",
       "       1.13774814, 1.27036621, 0.60653909, 0.60653909, 0.86225186,\n",
       "       0.49610149, 1.        , 1.27036621, 0.86225186, 0.60653909,\n",
       "       1.27036621, 0.86225186, 0.86225186, 1.        , 1.80372119,\n",
       "       0.60653909, 1.        , 0.72963379, 1.80372119, 0.60653909,\n",
       "       0.72963379, 0.49610149, 1.13774814, 0.86225186, 0.72963379,\n",
       "       0.86225186, 0.60653909, 1.68142881, 1.        , 0.49610149,\n",
       "       1.        , 0.86225186, 1.        , 1.        , 1.27036621,\n",
       "       0.49610149, 0.60653909, 1.50389851, 0.86225186, 1.27036621,\n",
       "       0.86225186, 0.86225186, 1.39346091, 1.6       , 1.13774814,\n",
       "       0.72963379, 1.13774814, 1.80372119, 1.        , 0.60653909,\n",
       "       0.86225186, 0.72963379, 1.        , 0.49610149, 1.        ,\n",
       "       1.50389851, 1.39346091, 0.60653909, 1.        , 0.72963379,\n",
       "       0.72963379, 1.27036621, 1.27036621, 1.        , 0.4       ,\n",
       "       0.60653909, 1.        , 0.72963379, 1.6       , 0.86225186,\n",
       "       1.13774814, 1.13774814, 0.86225186, 1.        , 0.86225186,\n",
       "       1.13774814, 0.86225186, 1.        , 1.39346091, 1.6       ])"
      ]
     },
     "execution_count": 19,
     "metadata": {},
     "output_type": "execute_result"
    }
   ],
   "source": [
    "sim.reg_sigmoid(X[:,0] / mu[0] * W[0, 1], 1)"
   ]
  },
  {
   "cell_type": "markdown",
   "metadata": {},
   "source": [
    "#### Testing Sigmoid Calibration for Linear Aggregation with z-norm"
   ]
  },
  {
   "cell_type": "code",
   "execution_count": 20,
   "metadata": {},
   "outputs": [
    {
     "name": "stdout",
     "output_type": "stream",
     "text": [
      "Calibrating linear aggregation with z-norm...\n",
      "Calibration complete.\n"
     ]
    },
    {
     "name": "stderr",
     "output_type": "stream",
     "text": [
      "/Users/luka/Documents/Research/Causal Structure Learning/Projects/Interventional SERGIO/PerturbSCM/PerturbSCM.py:124: RuntimeWarning: divide by zero encountered in scalar divide\n",
      "  gamma_j = - 1 / w_sum_j * (np.log(self.alpha[j] / self.beta[j] - 1) - np.log(self.alpha[j] - 1))\n"
     ]
    }
   ],
   "source": [
    "sim_z = scm.PerturbSCM(2, mu=mu, theta=theta, W=W, alpha=alpha, beta=beta, agg_type='linear-znorm')\n",
    "sim_z.calibrate_sigmoid()\n"
   ]
  },
  {
   "cell_type": "code",
   "execution_count": 21,
   "metadata": {},
   "outputs": [
    {
     "data": {
      "text/plain": [
       "<Axes: >"
      ]
     },
     "execution_count": 21,
     "metadata": {},
     "output_type": "execute_result"
    },
    {
     "data": {
      "image/png": "[encoded data removed]",
      "text/plain": [
       "<Figure size 640x480 with 1 Axes>"
      ]
     },
     "metadata": {},
     "output_type": "display_data"
    }
   ],
   "source": [
    "ax = sns.scatterplot(y=[0.1, 1], x=[-mu[0]/(mu[0] * (1 + mu[0] / theta[0])) * W[0,1], 0], color=\"black\")\n",
    "x = np.linspace(-3, 3, 100)\n",
    "y = sim_z.reg_sigmoid(x, 1)\n",
    "sns.lineplot(x=x, y=y)"
   ]
  },
  {
   "cell_type": "code",
   "execution_count": 22,
   "metadata": {},
   "outputs": [
    {
     "data": {
      "text/plain": [
       "0.4"
      ]
     },
     "execution_count": 22,
     "metadata": {},
     "output_type": "execute_result"
    }
   ],
   "source": [
    "sim_z.reg_sigmoid(-mu[0]/(mu[0] * (1 + mu[0] / theta[0])) * W[0,1], 1)"
   ]
  },
  {
   "cell_type": "code",
   "execution_count": 23,
   "metadata": {},
   "outputs": [
    {
     "data": {
      "text/plain": [
       "[nan, -0.7050598845274294]"
      ]
     },
     "execution_count": 23,
     "metadata": {},
     "output_type": "execute_result"
    }
   ],
   "source": [
    "sim.b"
   ]
  },
  {
   "cell_type": "markdown",
   "metadata": {},
   "source": [
    "#### Checking variance in regulatory function with z-normalisation"
   ]
  },
  {
   "cell_type": "code",
   "execution_count": 24,
   "metadata": {},
   "outputs": [],
   "source": [
    "# sim_z = scm.PerturbSCM(2, mu=mu, theta=theta, W=W, alpha=alpha, beta=beta, agg_type='linear-znorm')\n",
    "# sim_z.calibrate_sigmoid()\n",
    "# X_z = sim_z.simulate()\n",
    "\n",
    "# doesnt work due to divide by w = 0 (for nodes with no parents) in equation for gamma_j "
   ]
  },
  {
   "cell_type": "code",
   "execution_count": 73,
   "metadata": {},
   "outputs": [
    {
     "name": "stdout",
     "output_type": "stream",
     "text": [
      "Calibrating linear aggregation with mean-norm...\n",
      "Calibration complete.\n",
      "Calibrating linear aggregation with mean-norm...\n",
      "Calibration complete.\n",
      "Calibrating linear aggregation with mean-norm...\n",
      "Calibration complete.\n",
      "Calibrating linear aggregation with mean-norm...\n",
      "Calibration complete.\n",
      "Calibrating linear aggregation with mean-norm...\n",
      "Calibration complete.\n"
     ]
    },
    {
     "name": "stderr",
     "output_type": "stream",
     "text": [
      "/Users/luka/Documents/Research/Causal Structure Learning/Projects/Interventional SERGIO/PerturbSCM/PerturbSCM.py:108: RuntimeWarning: divide by zero encountered in scalar divide\n",
      "  gamma_j = 1 / np.sum(self.W[:,j]) * (np.log(self.alpha[j] / self.beta[j] - 1) - np.log(self.alpha[j] - 1))\n",
      "/Users/luka/Documents/Research/Causal Structure Learning/Projects/Interventional SERGIO/PerturbSCM/PerturbSCM.py:109: RuntimeWarning: invalid value encountered in scalar multiply\n",
      "  b_j = - 1 / gamma_j * (np.log(self.alpha[j] - 1) + gamma_j * np.sum(self.W[:,j]))\n"
     ]
    },
    {
     "data": {
      "text/plain": [
       "<Axes: xlabel='x', ylabel='y'>"
      ]
     },
     "execution_count": 73,
     "metadata": {},
     "output_type": "execute_result"
    },
    {
     "data": {
      "image/png": "[encoded data removed]",
      "text/plain": [
       "<Figure size 640x480 with 1 Axes>"
      ]
     },
     "metadata": {},
     "output_type": "display_data"
    }
   ],
   "source": [
    "df = pd.DataFrame()\n",
    "\n",
    "num = 100\n",
    "\n",
    "x = np.linspace(-1, 1.5, num)\n",
    "\n",
    "for bta in [0.1, 0.2, 0.3, 0.4, 0.5]:\n",
    "    temp_sim = scm.PerturbSCM(nnodes=2, mu=mu, theta=theta, W=W, alpha=[2, 2], beta=[bta, bta], agg_type='linear')\n",
    "    temp_sim.calibrate_sigmoid()\n",
    "    y = temp_sim.reg_sigmoid(x, 1)\n",
    "\n",
    "    temp_df = pd.DataFrame({'x' : x, 'y' : y, 'beta' : np.repeat(bta, num)})\n",
    "\n",
    "    df = pd.concat([df, temp_df])\n",
    "\n",
    "ax = sns.scatterplot(y=[0.1, 0.2, 0.3, 0.4, 0.5], x=[0, 0, 0, 0, 0], hue=[0.1, 0.2, 0.3, 0.4, 0.5])\n",
    "sns.lineplot(df, x='x', y='y', hue='beta')"
   ]
  },
  {
   "cell_type": "code",
   "execution_count": 54,
   "metadata": {},
   "outputs": [
    {
     "name": "stdout",
     "output_type": "stream",
     "text": [
      "Calibrating linear aggregation with mean-norm...\n",
      "Calibration complete.\n"
     ]
    },
    {
     "name": "stderr",
     "output_type": "stream",
     "text": [
      "/Users/luka/Documents/Research/Causal Structure Learning/Projects/Interventional SERGIO/PerturbSCM/PerturbSCM.py:108: RuntimeWarning: divide by zero encountered in scalar divide\n",
      "  gamma_j = 1 / np.sum(self.W[:,j]) * (np.log(self.alpha[j] / self.beta[j] - 1) - np.log(self.alpha[j] - 1))\n",
      "/Users/luka/Documents/Research/Causal Structure Learning/Projects/Interventional SERGIO/PerturbSCM/PerturbSCM.py:109: RuntimeWarning: invalid value encountered in scalar multiply\n",
      "  b_j = - 1 / gamma_j * (np.log(self.alpha[j] - 1) + gamma_j * np.sum(self.W[:,j]))\n"
     ]
    },
    {
     "data": {
      "text/plain": [
       "0.4"
      ]
     },
     "execution_count": 54,
     "metadata": {},
     "output_type": "execute_result"
    }
   ],
   "source": [
    "temp_sim = scm.PerturbSCM(nnodes=2, mu=mu, theta=theta, W=W, alpha=[1.5, 1.5], beta=[0.4, 0.4], agg_type='linear')\n",
    "temp_sim.calibrate_sigmoid()\n",
    "\n",
    "temp_sim.reg_sigmoid(0, 1)"
   ]
  },
  {
   "cell_type": "code",
   "execution_count": 69,
   "metadata": {},
   "outputs": [
    {
     "data": {
      "text/plain": [
       "array([ 8.197984, 11.082191])"
      ]
     },
     "execution_count": 69,
     "metadata": {},
     "output_type": "execute_result"
    }
   ],
   "source": [
    "X_z = temp_sim.simulate()\n",
    "\n",
    "np.var(X_z, axis=0)"
   ]
  },
  {
   "cell_type": "markdown",
   "metadata": {},
   "source": [
    "### Testing Invariant Causal Prediction"
   ]
  },
  {
   "cell_type": "code",
   "execution_count": 32,
   "metadata": {},
   "outputs": [],
   "source": [
    "import causalicp as icp"
   ]
  },
  {
   "cell_type": "code",
   "execution_count": 41,
   "metadata": {},
   "outputs": [],
   "source": [
    "B=utils.generate_dag(10, 20, 'ER')\n",
    "W=utils.generate_W(B)\n",
    "mu, theta, alpha, beta = utils.generate_node_params(10)"
   ]
  },
  {
   "cell_type": "code",
   "execution_count": 42,
   "metadata": {},
   "outputs": [],
   "source": [
    "sim_icp = scm.PerturbSCM(10, mu, theta, W, alpha, beta)\n",
    "sim_icp.calibrate_sigmoid()\n",
    "X_coll = []\n",
    "\n",
    "# observational\n",
    "X_coll.append(sim_icp.simulate())\n",
    "\n",
    "int_set = np.repeat(-1, 10)\n",
    "int_type = 'deterministic'\n",
    "\n",
    "for i in range(10):\n",
    "    int_temp = int_set.copy()\n",
    "    int_temp[i] = 0\n",
    "    X_coll.append(sim_icp.simulate(n_samp=1000, intervention_val=int_set, intervention_type=int_type))"
   ]
  },
  {
   "cell_type": "code",
   "execution_count": 79,
   "metadata": {},
   "outputs": [],
   "source": [
    "sets = []\n",
    "\n",
    "for i in range(10):\n",
    "    result_temp = icp.fit(X_coll, target=i, alpha=0.05, precompute=True, verbose=False, color=False)\n",
    "    sets.append(result_temp.accepted_sets)"
   ]
  },
  {
   "cell_type": "code",
   "execution_count": 80,
   "metadata": {},
   "outputs": [
    {
     "name": "stdout",
     "output_type": "stream",
     "text": [
      "set()\n",
      "set()\n",
      "set()\n",
      "set()\n",
      "set()\n",
      "set()\n",
      "set()\n",
      "set()\n",
      "set()\n",
      "set()\n"
     ]
    }
   ],
   "source": [
    "for i in range(10):\n",
    "    print(set.intersection(*sets[i]))"
   ]
  },
  {
   "cell_type": "code",
   "execution_count": 81,
   "metadata": {},
   "outputs": [
    {
     "data": {
      "text/plain": [
       "<Axes: >"
      ]
     },
     "execution_count": 81,
     "metadata": {},
     "output_type": "execute_result"
    },
    {
     "data": {
      "image/png": "[encoded data removed]",
      "text/plain": [
       "<Figure size 640x480 with 2 Axes>"
      ]
     },
     "metadata": {},
     "output_type": "display_data"
    }
   ],
   "source": [
    "sns.heatmap(W)"
   ]
  },
  {
   "cell_type": "markdown",
   "metadata": {},
   "source": [
    "#### Investigating variance generated by simulating from single negative binomial distribution"
   ]
  },
  {
   "cell_type": "code",
   "execution_count": 1,
   "metadata": {},
   "outputs": [],
   "source": [
    "test_mu = 5\n",
    "test_disp = 8\n",
    "\n",
    "exp_variance = 5 * (1 + 5 / 8)"
   ]
  },
  {
   "cell_type": "code",
   "execution_count": 2,
   "metadata": {},
   "outputs": [
    {
     "data": {
      "text/plain": [
       "8.125"
      ]
     },
     "execution_count": 2,
     "metadata": {},
     "output_type": "execute_result"
    }
   ],
   "source": [
    "exp_variance"
   ]
  },
  {
   "cell_type": "code",
   "execution_count": 3,
   "metadata": {},
   "outputs": [],
   "source": [
    "test_var = test_mu * (1 + test_mu / test_disp)\n",
    "p = test_mu / test_var\n",
    "n = test_mu ** 2 / (test_var - test_mu)"
   ]
  },
  {
   "cell_type": "code",
   "execution_count": 11,
   "metadata": {},
   "outputs": [],
   "source": [
    "import numpy as np\n",
    "\n",
    "test_x = np.random.negative_binomial(n=n, p=p, size=1000)"
   ]
  },
  {
   "cell_type": "code",
   "execution_count": 12,
   "metadata": {},
   "outputs": [
    {
     "data": {
      "text/plain": [
       "8.227630999999999"
      ]
     },
     "execution_count": 12,
     "metadata": {},
     "output_type": "execute_result"
    }
   ],
   "source": [
    "np.var(test_x)"
   ]
  }
 ],
 "metadata": {
  "kernelspec": {
   "display_name": "base",
   "language": "python",
   "name": "python3"
  },
  "language_info": {
   "codemirror_mode": {
    "name": "ipython",
    "version": 3
   },
   "file_extension": ".py",
   "mimetype": "text/x-python",
   "name": "python",
   "nbconvert_exporter": "python",
   "pygments_lexer": "ipython3",
   "version": "3.11.6"
  }
 },
 "nbformat": 4,
 "nbformat_minor": 2
}
