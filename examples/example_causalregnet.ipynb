{
 "cells": [
  {
   "cell_type": "markdown",
   "metadata": {},
   "source": [
    "# Simulating Gene Expression Dynamics with CausalRegNet"
   ]
  },
  {
   "cell_type": "markdown",
   "metadata": {},
   "source": [
    "CausalRegNet is a multiplicative effect SCM that uses a Negative Binomial distribution to simulate realstic scRNA-seq data. Here, we demonstrate how real data from Replogle et al. (2022) can be combined with the CausalRegNet framework to simulate data. We do this for both the observational and interventional setting. "
   ]
  },
  {
   "cell_type": "code",
   "execution_count": 1,
   "metadata": {},
   "outputs": [],
   "source": [
    "import numpy as np\n",
    "import pandas as pd\n",
    "import seaborn as sns\n",
    "import torch\n",
    "import matplotlib.pyplot as plt\n",
    "\n",
    "import lightning.pytorch as pl\n",
    "from torch.utils.data import DataLoader, TensorDataset\n",
    "\n",
    "from causalregnet import utils\n",
    "from causalregnet.simulator import Simulator\n",
    "from causalregnet.models.nb_fitter import NegativeBinomialFitter\n",
    "\n",
    "sns.set_context(\"notebook\")\n",
    "sns.set_theme(style=\"whitegrid\", palette=\"tab10\", font=\"Arial\")\n",
    "plt.rcParams['figure.figsize'] = [3, 3]"
   ]
  },
  {
   "cell_type": "markdown",
   "metadata": {},
   "source": [
    "## Fitting to Data from Replogle et al. (2022)"
   ]
  },
  {
   "cell_type": "markdown",
   "metadata": {},
   "source": [
    "With our code, we provide three files that were derived from the Replogle et al. (2022) dataset according to the cancer gene selection procedure described in the paper. These files include:\n",
    "- `k562_100_cancer_genes.csv`: expression matrix of 100 genes;\n",
    "- `k562_targets.csv`: intervention target for each row; 'non-targeting' indicates no intervention;\n",
    "- `k562_gene_names.csv`: maps ensembl id's (i.e. alternative gene names) to human readable gene names.\n",
    "\n",
    "We then use the `fit` module from `causalregnet` to fit negative binomial distributions to three genes from this dataset with the aim of simulating data from a random 3 node DAG."
   ]
  },
  {
   "cell_type": "code",
   "execution_count": 13,
   "metadata": {},
   "outputs": [
    {
     "name": "stderr",
     "output_type": "stream",
     "text": [
      "/var/folders/tn/_g1q08vx4zd1wdycsthwc3vh0000gn/T/ipykernel_69625/943750846.py:7: FutureWarning: The 'delim_whitespace' keyword in pd.read_csv is deprecated and will be removed in a future version. Use ``sep='\\s+'`` instead\n",
      "  df = pd.read_csv('../causalregnet/data/k562_100_cancer_genes.csv', delim_whitespace=True, header=0)\n",
      "/var/folders/tn/_g1q08vx4zd1wdycsthwc3vh0000gn/T/ipykernel_69625/943750846.py:8: FutureWarning: The 'delim_whitespace' keyword in pd.read_csv is deprecated and will be removed in a future version. Use ``sep='\\s+'`` instead\n",
      "  targets = pd.read_csv('../causalregnet/data/k562_targets.csv', delim_whitespace=True, header=None)\n",
      "/var/folders/tn/_g1q08vx4zd1wdycsthwc3vh0000gn/T/ipykernel_69625/943750846.py:10: FutureWarning: The 'delim_whitespace' keyword in pd.read_csv is deprecated and will be removed in a future version. Use ``sep='\\s+'`` instead\n",
      "  gene_names = pd.read_csv('../causalregnet/data/k562_gene_names.csv', delim_whitespace=True, header=0)\n",
      "GPU available: True (mps), used: True\n",
      "TPU available: False, using: 0 TPU cores\n",
      "HPU available: False, using: 0 HPUs\n",
      "\n",
      "  | Name         | Type | Params | Mode\n",
      "---------------------------------------------\n",
      "  | other params | n/a  | 2      | n/a \n",
      "---------------------------------------------\n",
      "2         Trainable params\n",
      "0         Non-trainable params\n",
      "2         Total params\n",
      "0.000     Total estimated model params size (MB)\n",
      "0         Modules in train mode\n",
      "0         Modules in eval mode\n",
      "/Users/luka/Documents/Research/causalregnet/venv/lib/python3.11/site-packages/lightning/pytorch/trainer/connectors/data_connector.py:425: The 'train_dataloader' does not have many workers which may be a bottleneck. Consider increasing the value of the `num_workers` argument` to `num_workers=7` in the `DataLoader` to improve performance.\n",
      "/Users/luka/Documents/Research/causalregnet/venv/lib/python3.11/site-packages/lightning/pytorch/loops/fit_loop.py:310: The number of training batches (74) is smaller than the logging interval Trainer(log_every_n_steps=100). Set a lower value for log_every_n_steps if you want to see logs for the training epoch.\n"
     ]
    },
    {
     "name": "stdout",
     "output_type": "stream",
     "text": [
      "Epoch 99: 100%|██████████| 74/74 [00:00<00:00, 107.88it/s, v_num=1]"
     ]
    },
    {
     "name": "stderr",
     "output_type": "stream",
     "text": [
      "`Trainer.fit` stopped: `max_epochs=100` reached.\n"
     ]
    },
    {
     "name": "stdout",
     "output_type": "stream",
     "text": [
      "Epoch 99: 100%|██████████| 74/74 [00:00<00:00, 107.38it/s, v_num=1]\n"
     ]
    },
    {
     "name": "stderr",
     "output_type": "stream",
     "text": [
      "GPU available: True (mps), used: True\n",
      "TPU available: False, using: 0 TPU cores\n",
      "HPU available: False, using: 0 HPUs\n",
      "\n",
      "  | Name         | Type | Params | Mode\n",
      "---------------------------------------------\n",
      "  | other params | n/a  | 2      | n/a \n",
      "---------------------------------------------\n",
      "2         Trainable params\n",
      "0         Non-trainable params\n",
      "2         Total params\n",
      "0.000     Total estimated model params size (MB)\n",
      "0         Modules in train mode\n",
      "0         Modules in eval mode\n"
     ]
    },
    {
     "name": "stdout",
     "output_type": "stream",
     "text": [
      "Epoch 99: 100%|██████████| 74/74 [00:00<00:00, 127.34it/s, v_num=2]"
     ]
    },
    {
     "name": "stderr",
     "output_type": "stream",
     "text": [
      "`Trainer.fit` stopped: `max_epochs=100` reached.\n"
     ]
    },
    {
     "name": "stdout",
     "output_type": "stream",
     "text": [
      "Epoch 99: 100%|██████████| 74/74 [00:00<00:00, 126.57it/s, v_num=2]"
     ]
    },
    {
     "name": "stderr",
     "output_type": "stream",
     "text": [
      "GPU available: True (mps), used: True\n"
     ]
    },
    {
     "name": "stdout",
     "output_type": "stream",
     "text": [
      "\n"
     ]
    },
    {
     "name": "stderr",
     "output_type": "stream",
     "text": [
      "TPU available: False, using: 0 TPU cores\n",
      "HPU available: False, using: 0 HPUs\n",
      "\n",
      "  | Name         | Type | Params | Mode\n",
      "---------------------------------------------\n",
      "  | other params | n/a  | 2      | n/a \n",
      "---------------------------------------------\n",
      "2         Trainable params\n",
      "0         Non-trainable params\n",
      "2         Total params\n",
      "0.000     Total estimated model params size (MB)\n",
      "0         Modules in train mode\n",
      "0         Modules in eval mode\n"
     ]
    },
    {
     "name": "stdout",
     "output_type": "stream",
     "text": [
      "Epoch 99: 100%|██████████| 74/74 [00:00<00:00, 114.94it/s, v_num=3]"
     ]
    },
    {
     "name": "stderr",
     "output_type": "stream",
     "text": [
      "`Trainer.fit` stopped: `max_epochs=100` reached.\n"
     ]
    },
    {
     "name": "stdout",
     "output_type": "stream",
     "text": [
      "Epoch 99: 100%|██████████| 74/74 [00:00<00:00, 114.06it/s, v_num=3]\n"
     ]
    }
   ],
   "source": [
    "# loading cancer gene dataset\n",
    "\n",
    "# `k562_100_cancer_genes.csv`: expression matrix\n",
    "# `k562_targets.csv`: intervention target for each row; 'non-targeting' indicates no intervention\n",
    "# `k562_gene_names.csv`: maps ensembl id's (i.e. alternative gene names) to human readable gene names\n",
    "\n",
    "df = pd.read_csv('../causalregnet/data/k562_100_cancer_genes.csv', delim_whitespace=True, header=0)\n",
    "targets = pd.read_csv('../causalregnet/data/k562_targets.csv', delim_whitespace=True, header=None)\n",
    "targets.columns = ['gene']\n",
    "gene_names = pd.read_csv('../causalregnet/data/k562_gene_names.csv', delim_whitespace=True, header=0)\n",
    "\n",
    "# keep observational samples only\n",
    "df = df.iloc[np.where(targets == 'non-targeting')[0],:]\n",
    "\n",
    "# selecting first three genes\n",
    "idx = [0, 1, 2]\n",
    "\n",
    "data = torch.tensor(df.to_numpy(), dtype=torch.float32)\n",
    "\n",
    "fitted_r = []\n",
    "fitted_p = []\n",
    "\n",
    "for g in idx:\n",
    "\n",
    "    dataset = TensorDataset(data[:, g])\n",
    "    data_loader = DataLoader(dataset, batch_size=1024, shuffle=True)\n",
    "\n",
    "    model = NegativeBinomialFitter()\n",
    "\n",
    "    trainer = pl.Trainer(max_epochs=100, log_every_n_steps=100)\n",
    "    trainer.fit(model, data_loader)\n",
    "\n",
    "    fitted_r.append(model.r.item())\n",
    "    fitted_p.append(torch.sigmoid(model.p).item())  # Apply sigmoid to get p in (0, 1)\n",
    "\n",
    "fitted_r = np.array(fitted_r)\n",
    "fitted_p = np.array(fitted_p)\n",
    "\n",
    "fitted_mu = fitted_r * (fitted_p/(1 - fitted_p))\n",
    "fitted_theta = fitted_r"
   ]
  },
  {
   "cell_type": "markdown",
   "metadata": {},
   "source": [
    "## Observational Setting"
   ]
  },
  {
   "cell_type": "markdown",
   "metadata": {},
   "source": [
    "Before simulating data, several user defined parameters must first be set including:\n",
    "- `mu`: mean expression for each node (here derived from real data);\n",
    "- `theta`: inverse dispersion for each node (here derived from real data);\n",
    "- `alpha`: maximum regulatory effect of parents on each node;\n",
    "- `beta`: minimum regulatory effect of parents on each node;\n",
    "- `agg_type`: aggregation function to be used (currently the only option is `linear`);\n",
    "- `reg_constant`: *regulatory adjustment constant*.\n",
    "\n",
    "The directed acyclic graph `B` is generated using the `utils` module of `causalregnet` and the weight adjacency matrix `W` is subsequently generated as well."
   ]
  },
  {
   "cell_type": "code",
   "execution_count": 14,
   "metadata": {},
   "outputs": [],
   "source": [
    "# CausalRegNet parameters\n",
    "np.random.seed(0)\n",
    "\n",
    "mu = fitted_mu\n",
    "theta = fitted_theta\n",
    "alpha = np.repeat(2, 3)\n",
    "beta = np.repeat(0.1, 3)\n",
    "agg_type = 'linear'\n",
    "reg_constant = np.repeat(1, 3)\n",
    "\n",
    "B = utils.generate_dag(d=3, m=3)\n",
    "W = utils.generate_W(B=B, w_ranges=((-2,-0.5), (0.5, 2)))"
   ]
  },
  {
   "cell_type": "code",
   "execution_count": 15,
   "metadata": {},
   "outputs": [],
   "source": [
    "simulator = Simulator(nnodes=3,\n",
    "                            mu=mu,\n",
    "                            theta=theta, \n",
    "                            W=W,\n",
    "                            alpha=alpha,\n",
    "                            beta=beta,\n",
    "                            agg_type=agg_type,\n",
    "                            reg_constant=reg_constant)\n",
    "\n",
    "simulator.calibrate_sigmoid()\n",
    "\n",
    "X = simulator.simulate(n_samp=1000)"
   ]
  },
  {
   "cell_type": "code",
   "execution_count": 16,
   "metadata": {},
   "outputs": [
    {
     "data": {
      "image/png": "[encoded data removed]",
      "text/plain": [
       "<Figure size 700x300 with 3 Axes>"
      ]
     },
     "metadata": {},
     "output_type": "display_data"
    }
   ],
   "source": [
    "plt.rcParams['figure.figsize'] = [7, 3]\n",
    "fig, ax = plt.subplots(1, 2)\n",
    "\n",
    "# strength of relationships \n",
    "sns.heatmap(W, cmap=sns.light_palette(\"seagreen\", as_cmap=True), ax=ax[0])\n",
    "sns.histplot(X, ax=ax[1], bins=np.arange(-0.5, 20.5, step=1))\n",
    "\n",
    "plt.tight_layout()"
   ]
  },
  {
   "cell_type": "markdown",
   "metadata": {},
   "source": [
    "## Interventional Setting"
   ]
  },
  {
   "cell_type": "markdown",
   "metadata": {},
   "source": [
    "Given an observational simulation, generting interventional data is simple as we only need to specify `intervention_type`(i.e. deterministic vs. stochastic) and `intervention_val`(value assigned to intervention target). In the simulatino below we interevene on $I=\\{X_1\\}$ by setting $X_1=0$ deterministically and do not intervene on the remaining variables $\\mathbf{X} \\backslash I = \\{X_0, X_2\\}$."
   ]
  },
  {
   "cell_type": "code",
   "execution_count": 19,
   "metadata": {},
   "outputs": [],
   "source": [
    "X_int = simulator.simulate(n_samp=1000, intervention_type='deterministic', intervention_val=[-1, 0, -1])"
   ]
  },
  {
   "cell_type": "code",
   "execution_count": 20,
   "metadata": {},
   "outputs": [
    {
     "data": {
      "text/plain": [
       "array([[0., 0., 0.],\n",
       "       [0., 0., 0.],\n",
       "       [1., 0., 2.],\n",
       "       ...,\n",
       "       [0., 0., 1.],\n",
       "       [0., 0., 0.],\n",
       "       [0., 0., 0.]])"
      ]
     },
     "execution_count": 20,
     "metadata": {},
     "output_type": "execute_result"
    }
   ],
   "source": [
    "X_int"
   ]
  },
  {
   "cell_type": "code",
   "execution_count": 21,
   "metadata": {},
   "outputs": [
    {
     "data": {
      "image/png": "[encoded data removed]",
      "text/plain": [
       "<Figure size 700x300 with 3 Axes>"
      ]
     },
     "metadata": {},
     "output_type": "display_data"
    }
   ],
   "source": [
    "plt.rcParams['figure.figsize'] = [7, 3]\n",
    "fig, ax = plt.subplots(1, 2)\n",
    "\n",
    "# strength of relationships \n",
    "sns.heatmap(W, cmap=sns.light_palette(\"seagreen\", as_cmap=True), ax=ax[0])\n",
    "sns.histplot(X_int, ax=ax[1], bins=np.arange(-0.5, 20.5, step=1))\n",
    "\n",
    "plt.tight_layout()"
   ]
  },
  {
   "cell_type": "code",
   "execution_count": 22,
   "metadata": {},
   "outputs": [
    {
     "name": "stdout",
     "output_type": "stream",
     "text": [
      "[-0.172 -0.31  -1.007]\n"
     ]
    }
   ],
   "source": [
    "# average treatment effects\n",
    "print(X_int.mean(axis=0) - X.mean(axis=0))"
   ]
  }
 ],
 "metadata": {
  "kernelspec": {
   "display_name": "venv",
   "language": "python",
   "name": "python3"
  },
  "language_info": {
   "codemirror_mode": {
    "name": "ipython",
    "version": 3
   },
   "file_extension": ".py",
   "mimetype": "text/x-python",
   "name": "python",
   "nbconvert_exporter": "python",
   "pygments_lexer": "ipython3",
   "version": "3.11.6"
  }
 },
 "nbformat": 4,
 "nbformat_minor": 2
}
