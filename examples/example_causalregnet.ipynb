{
 "cells": [
  {
   "cell_type": "markdown",
   "metadata": {},
   "source": [
    "# Simulating Gene Expression Dynamics with CausalRegNet"
   ]
  },
  {
   "cell_type": "markdown",
   "metadata": {},
   "source": [
    "CausalRegNet is a multiplicative effect SCM that uses a Negative Binomial distribution to simulate realstic scRNA-seq data. Here, we demonstrate how real data from Replogle et al. (2022) can be combined with the CausalRegNet framework to simulate data. We do this for both the observational and interventional setting. "
   ]
  },
  {
   "cell_type": "code",
   "execution_count": 3,
   "metadata": {},
   "outputs": [],
   "source": [
    "import numpy as np\n",
    "import pandas as pd\n",
    "import seaborn as sns\n",
    "import matplotlib.pyplot as plt\n",
    "\n",
    "sns.set_context(\"notebook\")\n",
    "sns.set_theme(style=\"whitegrid\", palette=\"tab10\", font=\"Arial\")\n",
    "plt.rcParams['figure.figsize'] = [3, 3]"
   ]
  },
  {
   "cell_type": "code",
   "execution_count": 4,
   "metadata": {},
   "outputs": [],
   "source": [
    "from causalregnet import sim, fit, utils"
   ]
  },
  {
   "cell_type": "markdown",
   "metadata": {},
   "source": [
    "## Fitting to Data from Replogle et al. (2022)"
   ]
  },
  {
   "cell_type": "markdown",
   "metadata": {},
   "source": [
    "With our code, we provide three files that were derived from the Replogle et al. (2022) dataset according to the cancer gene selection procedure described in the paper. These files include:\n",
    "- `k562_100_cancer_genes.csv`: expression matrix of 100 genes;\n",
    "- `k562_targets.csv`: intervention target for each row; 'non-targeting' indicates no intervention;\n",
    "- `k562_gene_names.csv`: maps ensembl id's (i.e. alternative gene names) to human readable gene names.\n",
    "\n",
    "We then use the `fit` module from `causalregnet` to fit negative binomial distributions to three genes from this dataset with the aim of simulating data from a random 3 node DAG."
   ]
  },
  {
   "cell_type": "code",
   "execution_count": 5,
   "metadata": {},
   "outputs": [
    {
     "name": "stderr",
     "output_type": "stream",
     "text": [
      "/var/folders/9s/zjg93qds49l17htmfn2zrdgm0000gp/T/ipykernel_78647/3850887544.py:7: FutureWarning: The 'delim_whitespace' keyword in pd.read_csv is deprecated and will be removed in a future version. Use ``sep='\\s+'`` instead\n",
      "  df = pd.read_csv('../causalregnet/data/k562_100_cancer_genes.csv', delim_whitespace=True, header=0)\n",
      "/var/folders/9s/zjg93qds49l17htmfn2zrdgm0000gp/T/ipykernel_78647/3850887544.py:8: FutureWarning: The 'delim_whitespace' keyword in pd.read_csv is deprecated and will be removed in a future version. Use ``sep='\\s+'`` instead\n",
      "  targets = pd.read_csv('../causalregnet/data/k562_targets.csv', delim_whitespace=True, header=None)\n",
      "/var/folders/9s/zjg93qds49l17htmfn2zrdgm0000gp/T/ipykernel_78647/3850887544.py:10: FutureWarning: The 'delim_whitespace' keyword in pd.read_csv is deprecated and will be removed in a future version. Use ``sep='\\s+'`` instead\n",
      "  gene_names = pd.read_csv('../causalregnet/data/k562_gene_names.csv', delim_whitespace=True, header=0)\n"
     ]
    }
   ],
   "source": [
    "# loading cancer gene dataset\n",
    "\n",
    "# `k562_100_cancer_genes.csv`: expression matrix\n",
    "# `k562_targets.csv`: intervention target for each row; 'non-targeting' indicates no intervention\n",
    "# `k562_gene_names.csv`: maps ensembl id's (i.e. alternative gene names) to human readable gene names\n",
    "\n",
    "df = pd.read_csv('../causalregnet/data/k562_100_cancer_genes.csv', delim_whitespace=True, header=0)\n",
    "targets = pd.read_csv('../causalregnet/data/k562_targets.csv', delim_whitespace=True, header=None)\n",
    "targets.columns = ['gene']\n",
    "gene_names = pd.read_csv('../causalregnet/data/k562_gene_names.csv', delim_whitespace=True, header=0)\n",
    "\n",
    "# keep observational samples only\n",
    "df = df.iloc[np.where(targets == 'non-targeting')[0],:]\n",
    "\n",
    "# selecting first three genes\n",
    "idx = [0, 1, 2]\n",
    "\n",
    "# fit negative binomial parameters to each node\n",
    "mu_nb0, theta_nb0 = fit.fit_nb(data=df.iloc[:,idx[0]])\n",
    "mu_nb1, theta_nb1 = fit.fit_nb(data=df.iloc[:,idx[1]])\n",
    "mu_nb2, theta_nb2 = fit.fit_nb(data=df.iloc[:,idx[2]])"
   ]
  },
  {
   "cell_type": "markdown",
   "metadata": {},
   "source": [
    "## Observational Setting"
   ]
  },
  {
   "cell_type": "markdown",
   "metadata": {},
   "source": [
    "Before simulating data, several user defined parameters must first be set including:\n",
    "- `mu`: mean expression for each node (here derived from real data);\n",
    "- `theta`: inverse dispersion for each node (here derived from real data);\n",
    "- `alpha`: maximum regulatory effect of parents on each node;\n",
    "- `beta`: minimum regulatory effect of parents on each node;\n",
    "- `agg_type`: aggregation function to be used (currently the only option is `linear`);\n",
    "- `reg_constant`: *regulatory adjustment constant*.\n",
    "\n",
    "The directed acyclic graph `B` is generated using the `utils` module of `causalregnet` and the weight adjacency matrix `W` is subsequently generated as well."
   ]
  },
  {
   "cell_type": "code",
   "execution_count": 6,
   "metadata": {},
   "outputs": [],
   "source": [
    "# CausalRegNet parameters\n",
    "np.random.seed(0)\n",
    "\n",
    "mu = np.array([mu_nb0, mu_nb1, mu_nb2])\n",
    "theta = np.array([theta_nb0, theta_nb1, theta_nb2])\n",
    "alpha = np.repeat(2, 3)\n",
    "beta = np.repeat(0.1, 3)\n",
    "agg_type = 'linear'\n",
    "reg_constant = np.repeat(1, 3)\n",
    "\n",
    "B = utils.generate_dag(d=3, m=3)\n",
    "W = utils.generate_W(B=B, w_ranges=((-2,-0.5), (0.5, 2)))"
   ]
  },
  {
   "cell_type": "code",
   "execution_count": 7,
   "metadata": {},
   "outputs": [],
   "source": [
    "simulator = sim.Simulator(nnodes=3,\n",
    "                            mu=mu,\n",
    "                            theta=theta, \n",
    "                            W=W,\n",
    "                            alpha=alpha,\n",
    "                            beta=beta,\n",
    "                            agg_type=agg_type,\n",
    "                            reg_constant=reg_constant)\n",
    "\n",
    "simulator.calibrate_sigmoid()\n",
    "\n",
    "X = simulator.simulate(n_samp=1000)"
   ]
  },
  {
   "cell_type": "code",
   "execution_count": 8,
   "metadata": {},
   "outputs": [
    {
     "data": {
      "image/png": "[encoded data removed]",
      "text/plain": [
       "<Figure size 700x300 with 3 Axes>"
      ]
     },
     "metadata": {},
     "output_type": "display_data"
    }
   ],
   "source": [
    "plt.rcParams['figure.figsize'] = [7, 3]\n",
    "fig, ax = plt.subplots(1, 2)\n",
    "\n",
    "# strength of relationships \n",
    "sns.heatmap(W, cmap=sns.light_palette(\"seagreen\", as_cmap=True), ax=ax[0])\n",
    "sns.histplot(X, ax=ax[1], bins=np.arange(-0.5, 20.5, step=1))\n",
    "\n",
    "plt.tight_layout()"
   ]
  },
  {
   "cell_type": "markdown",
   "metadata": {},
   "source": [
    "## Interventional Setting"
   ]
  },
  {
   "cell_type": "markdown",
   "metadata": {},
   "source": [
    "Given an observational simulation, generting interventional data is simple as we only need to specify `intervention_type`(i.e. deterministic vs. stochastic) and `intervention_val`(value assigned to intervention target). In the simulatino below we interevene on $I=\\{X_1\\}$ by setting $X_1=0$ deterministically and do not intervene on the remaining variables $\\mathbf{X} \\backslash I = \\{X_0, X_2\\}$."
   ]
  },
  {
   "cell_type": "code",
   "execution_count": 17,
   "metadata": {},
   "outputs": [],
   "source": [
    "X_int = simulator.simulate(n_samp=1000, intervention_type='deterministic', intervention_val=[-1, 0, -1])"
   ]
  },
  {
   "cell_type": "code",
   "execution_count": 10,
   "metadata": {},
   "outputs": [
    {
     "data": {
      "text/plain": [
       "array([[0., 0., 0.],\n",
       "       [0., 0., 0.],\n",
       "       [0., 0., 0.],\n",
       "       ...,\n",
       "       [1., 0., 5.],\n",
       "       [0., 0., 0.],\n",
       "       [0., 0., 0.]])"
      ]
     },
     "execution_count": 10,
     "metadata": {},
     "output_type": "execute_result"
    }
   ],
   "source": [
    "X_int"
   ]
  },
  {
   "cell_type": "code",
   "execution_count": 11,
   "metadata": {},
   "outputs": [
    {
     "data": {
      "image/png": "[encoded data removed]",
      "text/plain": [
       "<Figure size 700x300 with 3 Axes>"
      ]
     },
     "metadata": {},
     "output_type": "display_data"
    }
   ],
   "source": [
    "plt.rcParams['figure.figsize'] = [7, 3]\n",
    "fig, ax = plt.subplots(1, 2)\n",
    "\n",
    "# strength of relationships \n",
    "sns.heatmap(W, cmap=sns.light_palette(\"seagreen\", as_cmap=True), ax=ax[0])\n",
    "sns.histplot(X_int, ax=ax[1], bins=np.arange(-0.5, 20.5, step=1))\n",
    "\n",
    "plt.tight_layout()"
   ]
  },
  {
   "cell_type": "code",
   "execution_count": 65,
   "metadata": {},
   "outputs": [
    {
     "name": "stdout",
     "output_type": "stream",
     "text": [
      "[-0.139 -0.31  -0.878]\n"
     ]
    }
   ],
   "source": [
    "# average treatment effects\n",
    "print(X_int.mean(axis=0) - X.mean(axis=0))"
   ]
  }
 ],
 "metadata": {
  "kernelspec": {
   "display_name": "crn-env",
   "language": "python",
   "name": "python3"
  },
  "language_info": {
   "codemirror_mode": {
    "name": "ipython",
    "version": 3
   },
   "file_extension": ".py",
   "mimetype": "text/x-python",
   "name": "python",
   "nbconvert_exporter": "python",
   "pygments_lexer": "ipython3",
   "version": "3.13.0"
  }
 },
 "nbformat": 4,
 "nbformat_minor": 2
}
